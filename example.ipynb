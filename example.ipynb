{
 "cells": [
  {
   "cell_type": "markdown",
   "metadata": {},
   "source": [
    "### 1. Import pyebas"
   ]
  },
  {
   "cell_type": "code",
   "execution_count": 1,
   "metadata": {},
   "outputs": [],
   "source": [
    "from pyebas import *"
   ]
  },
  {
   "cell_type": "markdown",
   "metadata": {},
   "source": [
    "### 2. Download EBAS data (.nc files)"
   ]
  },
  {
   "cell_type": "code",
   "execution_count": 2,
   "metadata": {},
   "outputs": [
    {
     "name": "stdout",
     "output_type": "stream",
     "text": [
      "Make data folder ebas_db\\raw_data...\n",
      "0 raw data (*.nc) files have been downloaded.\n",
      "Requesting data from ebas sever...\n",
      "13126 files found on ftp server.\n",
      "0 files need to be deleted...\n"
     ]
    },
    {
     "name": "stderr",
     "output_type": "stream",
     "text": [
      "selecting ftp files...: 100%|██████████| 13126/13126 [00:00<00:00, 375040.43it/s]"
     ]
    },
    {
     "name": "stdout",
     "output_type": "stream",
     "text": [
      "5 files need to be downloaded...\n",
      "Start downloading files...\n",
      "Using 5 threads...\n"
     ]
    },
    {
     "name": "stderr",
     "output_type": "stream",
     "text": [
      "\n"
     ]
    },
    {
     "name": "stdout",
     "output_type": "stream",
     "text": [
      "\n",
      "Download completed.\n"
     ]
    }
   ],
   "source": [
    "# set selection conditions\n",
    "# if you need the whole EBAS database, set conditions as None\n",
    "conditions = {\n",
    "    \"start_year\": 1990,\n",
    "    \"end_year\": 2021,\n",
    "    \"site\": ['ES0010R', 'ES0011R'],\n",
    "    \"matrix\": ['air'],\n",
    "    \"components\": ['NOx'],\n",
    "}\n",
    "# set local stroage path\n",
    "db_dir = r'ebas_db'\n",
    "downloader = EbasDownloader(loc=db_dir)\n",
    "# download requires multiprocessing, error may occurs because of multiprocessing\n",
    "# use command line or Jupyter Notebook to prevent errors\n",
    "downloader.get_raw_files(conditions=conditions, download=True)"
   ]
  },
  {
   "cell_type": "markdown",
   "metadata": {},
   "source": [
    "### 3. Export to .csv file"
   ]
  },
  {
   "cell_type": "code",
   "execution_count": 3,
   "metadata": {},
   "outputs": [
    {
     "name": "stderr",
     "output_type": "stream",
     "text": [
      "Processing files...: 100%|██████████| 5/5 [00:00<00:00, 19.52it/s]\n"
     ]
    },
    {
     "name": "stdout",
     "output_type": "stream",
     "text": [
      "Exporting...\n",
      "Data has been exported to ebas_db\\export.csv.\n"
     ]
    }
   ],
   "source": [
    "# export all the downloaded .nc files in the output path to .csv \n",
    "# important: .csv file might be very large.\n",
    "csv_exporter = csvExporter(loc=db_dir)\n",
    "csv_exporter.export_csv('export.csv')"
   ]
  },
  {
   "cell_type": "markdown",
   "metadata": {},
   "source": [
    "### 4. Create local database"
   ]
  },
  {
   "cell_type": "code",
   "execution_count": 4,
   "metadata": {},
   "outputs": [
    {
     "name": "stdout",
     "output_type": "stream",
     "text": [
      "Make data folder ebas_db\\dumps...\n",
      "Gathering site information...\n",
      "Using 5 threads...\n"
     ]
    },
    {
     "name": "stderr",
     "output_type": "stream",
     "text": [
      "100%|██████████| 5/5 [00:01<00:00,  3.76it/s]\n"
     ]
    },
    {
     "name": "stdout",
     "output_type": "stream",
     "text": [
      "Collected site number: 2\n",
      "No bad files were found.\n",
      "creating value index...\n",
      "Dumping data to to 'value_index.xz'...\n",
      "Dumping data to to 'site_index.xz'...\n",
      "Importing datafile for each site...\n",
      "Using 2 threads...\n"
     ]
    },
    {
     "name": "stderr",
     "output_type": "stream",
     "text": [
      "100%|██████████| 2/2 [00:01<00:00,  1.31it/s]\n"
     ]
    }
   ],
   "source": [
    "# set local stroage path, must be the same as previous path\n",
    "db_dir = r'ebas_db'\n",
    "# local database object\n",
    "db = EbasDB(dir=db_dir, dump='xz', detailed=True)\n",
    "# create/update database with new files\n",
    "db.update_db()"
   ]
  },
  {
   "cell_type": "markdown",
   "metadata": {},
   "source": [
    "### 5.Open local database"
   ]
  },
  {
   "cell_type": "code",
   "execution_count": 2,
   "metadata": {},
   "outputs": [
    {
     "name": "stderr",
     "output_type": "stream",
     "text": [
      "  0%|          | 0/2 [00:00<?, ?it/s]"
     ]
    },
    {
     "name": "stdout",
     "output_type": "stream",
     "text": [
      "init database...\n",
      "Load value index...\n",
      "Load site index...\n",
      "Load site data...\n",
      "Using 2 threads...\n"
     ]
    },
    {
     "name": "stderr",
     "output_type": "stream",
     "text": [
      "100%|██████████| 2/2 [00:01<00:00,  1.03it/s]\n"
     ]
    },
    {
     "name": "stdout",
     "output_type": "stream",
     "text": [
      "2          sites included in current database.\n",
      "3          components included in current database.\n",
      "1          matrix included in current database.\n",
      "1          country included in current database.\n",
      "Database is loaded.\n"
     ]
    }
   ],
   "source": [
    "# set local stroage path\n",
    "db_dir = r'ebas_db'\n",
    "# local database object\n",
    "db = EbasDB(dir=db_dir, dump='xz', detailed=True)\n",
    "# open database if it is created\n",
    "db.init_db()"
   ]
  },
  {
   "cell_type": "markdown",
   "metadata": {},
   "source": [
    "### 6. Query data from local database as pandas.DataFrame"
   ]
  },
  {
   "cell_type": "code",
   "execution_count": 11,
   "metadata": {},
   "outputs": [
    {
     "name": "stderr",
     "output_type": "stream",
     "text": [
      "seraching...: 100%|██████████| 2/2 [00:00<?, ?it/s]\n"
     ]
    },
    {
     "name": "stdout",
     "output_type": "stream",
     "text": [
      "Gathering data to dataframe...\n"
     ]
    },
    {
     "name": "stderr",
     "output_type": "stream",
     "text": [
      "100%|██████████| 2/2 [00:00<00:00, 333.34it/s]\n"
     ]
    },
    {
     "data": {
      "text/html": [
       "<div>\n",
       "<style scoped>\n",
       "    .dataframe tbody tr th:only-of-type {\n",
       "        vertical-align: middle;\n",
       "    }\n",
       "\n",
       "    .dataframe tbody tr th {\n",
       "        vertical-align: top;\n",
       "    }\n",
       "\n",
       "    .dataframe thead th {\n",
       "        text-align: right;\n",
       "    }\n",
       "</style>\n",
       "<table border=\"1\" class=\"dataframe\">\n",
       "  <thead>\n",
       "    <tr style=\"text-align: right;\">\n",
       "      <th></th>\n",
       "      <th>st</th>\n",
       "      <th>ed</th>\n",
       "      <th>val</th>\n",
       "      <th>site</th>\n",
       "      <th>component</th>\n",
       "      <th>unit</th>\n",
       "      <th>matrix</th>\n",
       "    </tr>\n",
       "  </thead>\n",
       "  <tbody>\n",
       "    <tr>\n",
       "      <th>0</th>\n",
       "      <td>2004-01-01 00:00:00</td>\n",
       "      <td>2004-01-01 01:00:00</td>\n",
       "      <td>1.27</td>\n",
       "      <td>ES0010R</td>\n",
       "      <td>NOx</td>\n",
       "      <td>ug N/m3</td>\n",
       "      <td>air</td>\n",
       "    </tr>\n",
       "    <tr>\n",
       "      <th>1</th>\n",
       "      <td>2004-01-01 01:00:00</td>\n",
       "      <td>2004-01-01 02:00:00</td>\n",
       "      <td>1.30</td>\n",
       "      <td>ES0010R</td>\n",
       "      <td>NOx</td>\n",
       "      <td>ug N/m3</td>\n",
       "      <td>air</td>\n",
       "    </tr>\n",
       "    <tr>\n",
       "      <th>2</th>\n",
       "      <td>2004-01-01 02:00:00</td>\n",
       "      <td>2004-01-01 03:00:00</td>\n",
       "      <td>1.17</td>\n",
       "      <td>ES0010R</td>\n",
       "      <td>NOx</td>\n",
       "      <td>ug N/m3</td>\n",
       "      <td>air</td>\n",
       "    </tr>\n",
       "    <tr>\n",
       "      <th>3</th>\n",
       "      <td>2004-01-01 03:00:00</td>\n",
       "      <td>2004-01-01 04:00:00</td>\n",
       "      <td>0.88</td>\n",
       "      <td>ES0010R</td>\n",
       "      <td>NOx</td>\n",
       "      <td>ug N/m3</td>\n",
       "      <td>air</td>\n",
       "    </tr>\n",
       "    <tr>\n",
       "      <th>4</th>\n",
       "      <td>2004-01-01 04:00:00</td>\n",
       "      <td>2004-01-01 05:00:00</td>\n",
       "      <td>1.09</td>\n",
       "      <td>ES0010R</td>\n",
       "      <td>NOx</td>\n",
       "      <td>ug N/m3</td>\n",
       "      <td>air</td>\n",
       "    </tr>\n",
       "    <tr>\n",
       "      <th>5</th>\n",
       "      <td>2004-01-01 05:00:00</td>\n",
       "      <td>2004-01-01 06:00:00</td>\n",
       "      <td>2.65</td>\n",
       "      <td>ES0010R</td>\n",
       "      <td>NOx</td>\n",
       "      <td>ug N/m3</td>\n",
       "      <td>air</td>\n",
       "    </tr>\n",
       "    <tr>\n",
       "      <th>6</th>\n",
       "      <td>2004-01-01 06:00:00</td>\n",
       "      <td>2004-01-01 07:00:00</td>\n",
       "      <td>3.07</td>\n",
       "      <td>ES0010R</td>\n",
       "      <td>NOx</td>\n",
       "      <td>ug N/m3</td>\n",
       "      <td>air</td>\n",
       "    </tr>\n",
       "    <tr>\n",
       "      <th>7</th>\n",
       "      <td>2004-01-01 07:00:00</td>\n",
       "      <td>2004-01-01 08:00:00</td>\n",
       "      <td>1.10</td>\n",
       "      <td>ES0010R</td>\n",
       "      <td>NOx</td>\n",
       "      <td>ug N/m3</td>\n",
       "      <td>air</td>\n",
       "    </tr>\n",
       "    <tr>\n",
       "      <th>8</th>\n",
       "      <td>2004-01-01 08:00:00</td>\n",
       "      <td>2004-01-01 09:00:00</td>\n",
       "      <td>0.85</td>\n",
       "      <td>ES0010R</td>\n",
       "      <td>NOx</td>\n",
       "      <td>ug N/m3</td>\n",
       "      <td>air</td>\n",
       "    </tr>\n",
       "    <tr>\n",
       "      <th>9</th>\n",
       "      <td>2004-01-01 09:00:00</td>\n",
       "      <td>2004-01-01 10:00:00</td>\n",
       "      <td>0.66</td>\n",
       "      <td>ES0010R</td>\n",
       "      <td>NOx</td>\n",
       "      <td>ug N/m3</td>\n",
       "      <td>air</td>\n",
       "    </tr>\n",
       "    <tr>\n",
       "      <th>10</th>\n",
       "      <td>2004-01-01 10:00:00</td>\n",
       "      <td>2004-01-01 11:00:00</td>\n",
       "      <td>1.22</td>\n",
       "      <td>ES0010R</td>\n",
       "      <td>NOx</td>\n",
       "      <td>ug N/m3</td>\n",
       "      <td>air</td>\n",
       "    </tr>\n",
       "    <tr>\n",
       "      <th>11</th>\n",
       "      <td>2004-01-01 11:00:00</td>\n",
       "      <td>2004-01-01 12:00:00</td>\n",
       "      <td>2.58</td>\n",
       "      <td>ES0010R</td>\n",
       "      <td>NOx</td>\n",
       "      <td>ug N/m3</td>\n",
       "      <td>air</td>\n",
       "    </tr>\n",
       "    <tr>\n",
       "      <th>12</th>\n",
       "      <td>2004-01-01 12:00:00</td>\n",
       "      <td>2004-01-01 13:00:00</td>\n",
       "      <td>2.32</td>\n",
       "      <td>ES0010R</td>\n",
       "      <td>NOx</td>\n",
       "      <td>ug N/m3</td>\n",
       "      <td>air</td>\n",
       "    </tr>\n",
       "    <tr>\n",
       "      <th>13</th>\n",
       "      <td>2004-01-01 13:00:00</td>\n",
       "      <td>2004-01-01 14:00:00</td>\n",
       "      <td>2.93</td>\n",
       "      <td>ES0010R</td>\n",
       "      <td>NOx</td>\n",
       "      <td>ug N/m3</td>\n",
       "      <td>air</td>\n",
       "    </tr>\n",
       "    <tr>\n",
       "      <th>14</th>\n",
       "      <td>2004-01-01 14:00:00</td>\n",
       "      <td>2004-01-01 15:00:00</td>\n",
       "      <td>3.10</td>\n",
       "      <td>ES0010R</td>\n",
       "      <td>NOx</td>\n",
       "      <td>ug N/m3</td>\n",
       "      <td>air</td>\n",
       "    </tr>\n",
       "    <tr>\n",
       "      <th>15</th>\n",
       "      <td>2004-01-01 15:00:00</td>\n",
       "      <td>2004-01-01 16:00:00</td>\n",
       "      <td>3.38</td>\n",
       "      <td>ES0010R</td>\n",
       "      <td>NOx</td>\n",
       "      <td>ug N/m3</td>\n",
       "      <td>air</td>\n",
       "    </tr>\n",
       "    <tr>\n",
       "      <th>16</th>\n",
       "      <td>2004-01-01 16:00:00</td>\n",
       "      <td>2004-01-01 17:00:00</td>\n",
       "      <td>2.19</td>\n",
       "      <td>ES0010R</td>\n",
       "      <td>NOx</td>\n",
       "      <td>ug N/m3</td>\n",
       "      <td>air</td>\n",
       "    </tr>\n",
       "    <tr>\n",
       "      <th>17</th>\n",
       "      <td>2004-01-01 17:00:00</td>\n",
       "      <td>2004-01-01 18:00:00</td>\n",
       "      <td>3.91</td>\n",
       "      <td>ES0010R</td>\n",
       "      <td>NOx</td>\n",
       "      <td>ug N/m3</td>\n",
       "      <td>air</td>\n",
       "    </tr>\n",
       "    <tr>\n",
       "      <th>18</th>\n",
       "      <td>2004-01-01 18:00:00</td>\n",
       "      <td>2004-01-01 19:00:00</td>\n",
       "      <td>2.43</td>\n",
       "      <td>ES0010R</td>\n",
       "      <td>NOx</td>\n",
       "      <td>ug N/m3</td>\n",
       "      <td>air</td>\n",
       "    </tr>\n",
       "    <tr>\n",
       "      <th>19</th>\n",
       "      <td>2004-01-01 19:00:00</td>\n",
       "      <td>2004-01-01 20:00:00</td>\n",
       "      <td>2.05</td>\n",
       "      <td>ES0010R</td>\n",
       "      <td>NOx</td>\n",
       "      <td>ug N/m3</td>\n",
       "      <td>air</td>\n",
       "    </tr>\n",
       "  </tbody>\n",
       "</table>\n",
       "</div>"
      ],
      "text/plain": [
       "                    st                  ed   val     site component     unit  \\\n",
       "0  2004-01-01 00:00:00 2004-01-01 01:00:00  1.27  ES0010R       NOx  ug N/m3   \n",
       "1  2004-01-01 01:00:00 2004-01-01 02:00:00  1.30  ES0010R       NOx  ug N/m3   \n",
       "2  2004-01-01 02:00:00 2004-01-01 03:00:00  1.17  ES0010R       NOx  ug N/m3   \n",
       "3  2004-01-01 03:00:00 2004-01-01 04:00:00  0.88  ES0010R       NOx  ug N/m3   \n",
       "4  2004-01-01 04:00:00 2004-01-01 05:00:00  1.09  ES0010R       NOx  ug N/m3   \n",
       "5  2004-01-01 05:00:00 2004-01-01 06:00:00  2.65  ES0010R       NOx  ug N/m3   \n",
       "6  2004-01-01 06:00:00 2004-01-01 07:00:00  3.07  ES0010R       NOx  ug N/m3   \n",
       "7  2004-01-01 07:00:00 2004-01-01 08:00:00  1.10  ES0010R       NOx  ug N/m3   \n",
       "8  2004-01-01 08:00:00 2004-01-01 09:00:00  0.85  ES0010R       NOx  ug N/m3   \n",
       "9  2004-01-01 09:00:00 2004-01-01 10:00:00  0.66  ES0010R       NOx  ug N/m3   \n",
       "10 2004-01-01 10:00:00 2004-01-01 11:00:00  1.22  ES0010R       NOx  ug N/m3   \n",
       "11 2004-01-01 11:00:00 2004-01-01 12:00:00  2.58  ES0010R       NOx  ug N/m3   \n",
       "12 2004-01-01 12:00:00 2004-01-01 13:00:00  2.32  ES0010R       NOx  ug N/m3   \n",
       "13 2004-01-01 13:00:00 2004-01-01 14:00:00  2.93  ES0010R       NOx  ug N/m3   \n",
       "14 2004-01-01 14:00:00 2004-01-01 15:00:00  3.10  ES0010R       NOx  ug N/m3   \n",
       "15 2004-01-01 15:00:00 2004-01-01 16:00:00  3.38  ES0010R       NOx  ug N/m3   \n",
       "16 2004-01-01 16:00:00 2004-01-01 17:00:00  2.19  ES0010R       NOx  ug N/m3   \n",
       "17 2004-01-01 17:00:00 2004-01-01 18:00:00  3.91  ES0010R       NOx  ug N/m3   \n",
       "18 2004-01-01 18:00:00 2004-01-01 19:00:00  2.43  ES0010R       NOx  ug N/m3   \n",
       "19 2004-01-01 19:00:00 2004-01-01 20:00:00  2.05  ES0010R       NOx  ug N/m3   \n",
       "\n",
       "   matrix  \n",
       "0     air  \n",
       "1     air  \n",
       "2     air  \n",
       "3     air  \n",
       "4     air  \n",
       "5     air  \n",
       "6     air  \n",
       "7     air  \n",
       "8     air  \n",
       "9     air  \n",
       "10    air  \n",
       "11    air  \n",
       "12    air  \n",
       "13    air  \n",
       "14    air  \n",
       "15    air  \n",
       "16    air  \n",
       "17    air  \n",
       "18    air  \n",
       "19    air  "
      ]
     },
     "execution_count": 11,
     "metadata": {},
     "output_type": "execute_result"
    }
   ],
   "source": [
    "condition = {\n",
    "    \"id\":[\"AM0001R\", \"EE0009R\", 'ES0010R', 'ES0011R'],\n",
    "    \"component\":[\"NOx\", \"nitrate\", \"nitric_acid\"],\n",
    "    \"matrix\":[\"air\", \"aerosol\"],\n",
    "    \"stat\":['arithmetic mean',\"median\"],\n",
    "    \"st\":np.datetime64(\"1970-01-01\"),\n",
    "    \"ed\":np.datetime64(\"2021-10-01\"),\n",
    "    # if you want to include all, just remove the condition\n",
    "    #\"country\":[\"Denmark\",\"France\"],\n",
    "}\n",
    "df = db.query(condition, use_number_indexing=False)\n",
    "df.head(20)"
   ]
  },
  {
   "cell_type": "markdown",
   "metadata": {},
   "source": [
    "### 7. Access detail information"
   ]
  },
  {
   "cell_type": "code",
   "execution_count": 10,
   "metadata": {},
   "outputs": [
    {
     "data": {
      "text/plain": [
       "dict_keys(['ES0011R.20130101000000.20150109112917.chemiluminescence_photolytic.NOx.air.1y.1h.ES04L_TIN-009.ES04L_chemilum..nc'])"
      ]
     },
     "execution_count": 10,
     "metadata": {},
     "output_type": "execute_result"
    }
   ],
   "source": [
    "# access information for one site\n",
    "db.site_index[\"ES0011R\"]\n",
    "db.site_index[\"ES0011R\"][\"components\"].keys()\n",
    "db.site_index[\"ES0011R\"][\"files\"].keys()"
   ]
  },
  {
   "cell_type": "markdown",
   "metadata": {},
   "source": [
    "### 8. Get summary"
   ]
  },
  {
   "cell_type": "code",
   "execution_count": 3,
   "metadata": {},
   "outputs": [
    {
     "data": {
      "text/plain": [
       "[{'name': 'Cabo de Creus',\n",
       "  'components': [('NOx',\n",
       "    'air',\n",
       "    '1h',\n",
       "    numpy.datetime64('2004-01-01T00:00:00.000000000'),\n",
       "    numpy.datetime64('2008-01-01T00:00:00.000000000')),\n",
       "   ('NOx',\n",
       "    'air',\n",
       "    '1h',\n",
       "    numpy.datetime64('2008-01-01T00:00:00.000000000'),\n",
       "    numpy.datetime64('2011-01-01T00:00:00.000000000')),\n",
       "   ('NOx',\n",
       "    'air',\n",
       "    '1h',\n",
       "    numpy.datetime64('2013-01-01T00:00:00.000000000'),\n",
       "    numpy.datetime64('2014-01-01T00:00:00.000000000')),\n",
       "   ('NOx',\n",
       "    'air',\n",
       "    '1h',\n",
       "    numpy.datetime64('2014-01-01T00:00:00.000000000'),\n",
       "    numpy.datetime64('2015-01-01T00:00:00.000000000'))]},\n",
       " {'name': 'Barcarrota',\n",
       "  'components': [('NOx',\n",
       "    'air',\n",
       "    '1h',\n",
       "    numpy.datetime64('2013-01-01T00:00:00.000000000'),\n",
       "    numpy.datetime64('2014-01-01T00:00:00.000000000'))]}]"
      ]
     },
     "execution_count": 3,
     "metadata": {},
     "output_type": "execute_result"
    }
   ],
   "source": [
    "# get summary information\n",
    "db.list_sites()\n",
    "# possible keys are: \"id\",\"name\",\"country\",\"station_setting\", \"lat\", \"lon\",\"alt\",\"land_use\", \"file_num\",\"components\"\n",
    "db.list_sites(keys=[\"name\",\"lat\",\"lon\"])\n",
    "# if components are selected, set list_time=True to see the starting and ending time\n",
    "db.list_sites(keys=[\"name\", \"components\"], list_time=True)"
   ]
  }
 ],
 "metadata": {
  "interpreter": {
   "hash": "1ddcf55de9afd4958fcddedce040518f7db316d0e1bff7faaa4445aaf7b4973e"
  },
  "kernelspec": {
   "display_name": "Python 3.8.11 64-bit ('ebas': conda)",
   "language": "python",
   "name": "python3"
  },
  "language_info": {
   "codemirror_mode": {
    "name": "ipython",
    "version": 3
   },
   "file_extension": ".py",
   "mimetype": "text/x-python",
   "name": "python",
   "nbconvert_exporter": "python",
   "pygments_lexer": "ipython3",
   "version": "3.7.6"
  },
  "orig_nbformat": 4
 },
 "nbformat": 4,
 "nbformat_minor": 2
}
